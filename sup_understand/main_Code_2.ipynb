{
 "cells": [
  {
   "cell_type": "markdown",
   "id": "2e6949e9-72be-4740-991e-5ef9a8f9e58f",
   "metadata": {},
   "source": [
    "# Start project\n",
    "### Where are first del data from Big file"
   ]
  },
  {
   "cell_type": "code",
   "execution_count": 208,
   "id": "97c2b48e-9293-4a62-b1c9-3e52cb5baedc",
   "metadata": {},
   "outputs": [],
   "source": [
    "# Library\n",
    "import pandas as pd\n",
    "# time zonez\n",
    "from tqdm import tqdm\n",
    "import numpy as np\n",
    "# change width\n",
    "from openpyxl import load_workbook\n",
    "import os"
   ]
  },
  {
   "cell_type": "code",
   "execution_count": 209,
   "id": "18568b7d-d563-4429-b14e-c477612f3d7b",
   "metadata": {},
   "outputs": [],
   "source": [
    "# You want get data from Article code (DD code) get code\n",
    "get_art = True\n",
    "# can be 0 1 2 3\n",
    "text_code = 0\n",
    "text = \"JD\""
   ]
  },
  {
   "cell_type": "code",
   "execution_count": 210,
   "id": "6fd49896-0f94-4490-bbcf-cf6a01dfbffd",
   "metadata": {},
   "outputs": [],
   "source": [
    "# convert from excel to data\n",
    "df_jd = pd.read_excel(\"DATA_JD.xlsx\",dtype=str, header = None)\n",
    "articles_excel = pd.read_excel(\"Article_need.xlsx\")\n",
    "articles = articles_excel[\"Номер\"] # main key"
   ]
  },
  {
   "cell_type": "code",
   "execution_count": 211,
   "id": "f7574331-0943-4419-8130-392b4a0a8260",
   "metadata": {},
   "outputs": [],
   "source": [
    "### create convenient format data\n",
    "mesive = []\n",
    "data = np.array(df_jd)\n",
    "for work in data:\n",
    "    mesive.append(list(work))"
   ]
  },
  {
   "cell_type": "code",
   "execution_count": 212,
   "id": "d7e822cc-8fa1-4c67-81c6-48aef64d968b",
   "metadata": {},
   "outputs": [],
   "source": [
    "text_code = 3\n",
    "# Create key\n",
    "keyboard = {}\n",
    "keyboard_db = {}\n",
    "resould = {}\n",
    "## next version add button where add element\n",
    "## keyboard[article] = [article] without [DD ]\n",
    "if get_art == True:\n",
    "    for i,article in enumerate(articles):\n",
    "        if text_code == 0:\n",
    "            keyboard[article] =  [article[article.find(\" \")+1:]]\n",
    "            #print(article, article[article.find(\" \")+1:])\n",
    "        elif text_code == 1: #replace left one\n",
    "            #print(article[article.find(\" \")+1:])\n",
    "            el_art = (article[article.find(\" \")+1:].find(text)+len(text))\n",
    "            arg1 = str(article[article.find(\" \")+1:][:el_art].replace(text,\"\"))\n",
    "            arg2 = str(article[article.find(\" \")+1:][el_art:])\n",
    "            #print(arg1,arg2)\n",
    "            pull = \"\".join((arg1,arg2))\n",
    "            \n",
    "            keyboard[article] = [pull]\n",
    "            #print(article, [article[article.find(\" \")+1:].replace(str(text),\"\")])\n",
    "        elif text_code == 2: #replace all\n",
    "            keyboard[article] = [article[article.find(\" \")+1:].replace(str(text),\"\")]\n",
    "            #print(article, [article[article.find(\" \")+1:].replace(str(text),\"\")])\n",
    "        elif text_code == 3: #replace right one\n",
    "            cut_article = article[article.find(\" \")+1:]\n",
    "            cut_art_re = cut_article[::-1]\n",
    "            text_re = text[::-1]\n",
    "            \n",
    "            el_art = (cut_art_re.find(text_re)+len(text_re))\n",
    "            arg1 = str(cut_art_re[:el_art].replace(text_re,\"\"))\n",
    "            arg2 = str(cut_art_re[el_art:])\n",
    "            pull = \"\".join((arg1,arg2))[::-1]\n",
    "            keyboard[article] = [pull]\n",
    "            #print(article, [pull])\n",
    "        else:\n",
    "            keyboard[article] = []\n",
    "        keyboard_db[article] = []\n",
    "        resould[article] = []\n",
    "else:\n",
    "    for article in articles:\n",
    "        keyboard[article] = []\n",
    "        keyboard_db[article] = []\n",
    "        resould[article] = []"
   ]
  },
  {
   "cell_type": "code",
   "execution_count": 213,
   "id": "7ffbb7dc-7ff9-426b-a415-55622ef73278",
   "metadata": {},
   "outputs": [],
   "source": [
    "### create convenient format data\n",
    "mesive = []\n",
    "data = np.array(df_jd)\n",
    "for work in data:\n",
    "    mesive.append(list(work))"
   ]
  },
  {
   "cell_type": "code",
   "execution_count": 214,
   "id": "9f6fe321-f4b7-4c36-8ceb-c9ba4fe3ef52",
   "metadata": {},
   "outputs": [
    {
     "name": "stdout",
     "output_type": "stream",
     "text": [
      "AG AH125200JD:\n",
      "AG AH125200JD:AH125200 \n"
     ]
    }
   ],
   "source": [
    "for art in articles:\n",
    "    if art == \"AG AH125200JD\":\n",
    "        print(art,end=\":\")\n",
    "        for key in keyboard_db[art]:\n",
    "            print(key,end=\" \")\n",
    "        print()\n",
    "        \n",
    "        print(art,end=\":\")\n",
    "        for key in keyboard[art]:\n",
    "            print(key,end=\" \")\n",
    "        print()"
   ]
  },
  {
   "cell_type": "markdown",
   "id": "29574586-369b-4287-ba01-93501fc8d3ec",
   "metadata": {},
   "source": [
    "### Start work with file from DataBase cross"
   ]
  },
  {
   "cell_type": "code",
   "execution_count": 215,
   "id": "f6491b4f-be8a-4055-8f22-d03548bd55c0",
   "metadata": {},
   "outputs": [],
   "source": [
    "# for DB\n",
    "def add_in_keyboard_db(key, value):\n",
    "    error = 0\n",
    "    for element in keyboard_db[key]:\n",
    "        if element == value:\n",
    "            error = 1\n",
    "    if error == 0:\n",
    "        keyboard_db[key].append(value)"
   ]
  },
  {
   "cell_type": "code",
   "execution_count": 216,
   "id": "8b71a371-26d5-4d4b-b1b1-a60181ed41fc",
   "metadata": {},
   "outputs": [],
   "source": [
    "# keyboard_db element use for add data from our DB\n",
    "df_have = pd.read_excel(\"Cross_have.xlsx\")\n",
    "ion = 0\n",
    "for i, data_need in enumerate(df_have.loc[:,\"Код товара\"]):\n",
    "    element_dd = data_need\n",
    "    #print(element_dd)\n",
    "    error = 0\n",
    "    for article in articles:\n",
    "        if article == element_dd:\n",
    "            error = 1\n",
    "            #print(element_dd)\n",
    "            break\n",
    "    if error == 1:\n",
    "        for ion,column in enumerate(df_have.columns):\n",
    "            if column == \"Номер перекрестной ссылки\":\n",
    "                code = ion\n",
    "                #print(code)\n",
    "        add_in_keyboard_db(element_dd,df_have.iloc[i,code])"
   ]
  },
  {
   "cell_type": "code",
   "execution_count": 217,
   "id": "95deaafd-08d6-4dcd-879f-cd631e9bf00d",
   "metadata": {},
   "outputs": [
    {
     "name": "stdout",
     "output_type": "stream",
     "text": [
      "AG 03M7184JD ['03M7184', 'ER020627']\n",
      "AG 03M7190JD ['03M7190']\n",
      "AG 03M7192JD ['03M7192']\n",
      "AG 03M7194JD ['03M7194']\n",
      "AG 03M7359JD ['03M7359']\n",
      "AG 11M7028JD ['11M7028']\n",
      "AG 14H1047JD ['14H1047', '14H813', 'E43979']\n",
      "AG 14H631JD ['14H631']\n",
      "AG 14M7260JD ['14M7260', 'RT5003032008', 'RT94-4251']\n",
      "AG 14M7274JD ['14M7274', '14M7294', 'F009441', 'R127288', 'R129609']\n",
      "AG 14M7275JD ['14M7275', 'EPC015416', 'EPC015416H']\n",
      "AG 14M7276JD ['14M7276']\n"
     ]
    }
   ],
   "source": [
    "for i,art in enumerate(articles):\n",
    "    print(art, keyboard_db[art])\n",
    "    if i > 10:\n",
    "        break"
   ]
  },
  {
   "cell_type": "code",
   "execution_count": 218,
   "id": "f3d69ad4-0a19-42da-8f7b-49b11f7cf5c0",
   "metadata": {},
   "outputs": [
    {
     "name": "stdout",
     "output_type": "stream",
     "text": [
      "AG AH125200JD:AH125200 \n",
      "AG AH125200JD:AH125200 \n"
     ]
    }
   ],
   "source": [
    "for art in articles:\n",
    "    if art == \"AG AH125200JD\":\n",
    "        print(art,end=\":\")\n",
    "        for key in keyboard_db[art]:\n",
    "            print(key,end=\" \")\n",
    "        print()\n",
    "        \n",
    "        print(art,end=\":\")\n",
    "        for key in keyboard[art]:\n",
    "            print(key,end=\" \")\n",
    "        print()"
   ]
  },
  {
   "cell_type": "markdown",
   "id": "fbe5aa61-52d5-49f3-8975-15cf9fc77300",
   "metadata": {},
   "source": [
    "### Start hard funtion \"delete all data not needed\""
   ]
  },
  {
   "cell_type": "code",
   "execution_count": 219,
   "id": "1c326154-e300-49b7-895b-25c10d2c5c02",
   "metadata": {},
   "outputs": [],
   "source": [
    "# create check if don't have copy we add element\n",
    "def add_in_keyboard_right(key, value):\n",
    "    error = 0\n",
    "    for element in keyboard[key]:\n",
    "        if element == value:\n",
    "            error = 1\n",
    "    if error == 0:\n",
    "        keyboard[key].append(value)\n",
    "def add_in_keyboard_left(key, value):\n",
    "    error = 0\n",
    "    for element in keyboard[key]:\n",
    "        if element == value:\n",
    "            error = 1\n",
    "    if error == 0:\n",
    "        keyboard[key].insert(0,value)"
   ]
  },
  {
   "cell_type": "markdown",
   "id": "60b4b47d-fdc2-4cb2-883a-10d4dbc597b8",
   "metadata": {},
   "source": [
    "##### Need go inside articles and add him"
   ]
  },
  {
   "cell_type": "code",
   "execution_count": 220,
   "id": "231b11e3-f523-49e5-9594-75106d9f75ce",
   "metadata": {},
   "outputs": [],
   "source": [
    "# Cycle for search all data and add all data in under key elements\n",
    "# {key: [here]}temps = []\n",
    "temp = []\n",
    "def search_left(key, value):\n",
    "    temps = []\n",
    "    temps.append(value)\n",
    "    add_in_keyboard_left(key,value)\n",
    "    while 0 == 0:\n",
    "        temp = []\n",
    "        for tem  in temps:\n",
    "            #print(tem)\n",
    "            work_value = tem\n",
    "            for i, mes in enumerate(mesive):\n",
    "                if mes[0] == work_value:\n",
    "                    add_in_keyboard_left(key,mes[1])\n",
    "                    temp.append(mes[1])\n",
    "        if temp == []:\n",
    "            break;\n",
    "        else:\n",
    "            temps = temp\n",
    "def search_right(key, value):\n",
    "    temps = []\n",
    "    temps.append(value)\n",
    "    add_in_keyboard_right(key,value)\n",
    "    while 0 == 0:\n",
    "        temp = []\n",
    "        for tem  in temps:\n",
    "            #print(tem)\n",
    "            work_value = tem\n",
    "            for i, mes in enumerate(mesive):\n",
    "                if mes[1] == work_value:\n",
    "                    add_in_keyboard_left(key,mes[0])\n",
    "                    temp.append(mes[0])\n",
    "        if temp == []:\n",
    "            break;\n",
    "        else:\n",
    "            temps = temp"
   ]
  },
  {
   "cell_type": "code",
   "execution_count": 221,
   "id": "36284d26-c16a-43db-b970-5b0957b8c880",
   "metadata": {},
   "outputs": [
    {
     "name": "stdout",
     "output_type": "stream",
     "text": [
      "Choose necessary data\n"
     ]
    },
    {
     "name": "stderr",
     "output_type": "stream",
     "text": [
      "100%|████████████████████████████████████████████████████████████████████| 220123/220123 [00:55<00:00, 3946.62it/s]\n"
     ]
    }
   ],
   "source": [
    "# call all def for two side\n",
    "print(\"Choose necessary data\")\n",
    "for i, mes in enumerate(tqdm(mesive)):\n",
    "    for art in articles:\n",
    "        if get_art == True:\n",
    "            if text_code == 0:\n",
    "                art_element_work = art[art.find(\" \")+1:]\n",
    "                if mes[0] == art_element_work:\n",
    "                    search_left(art,mes[1])\n",
    "                elif mes[1] == art_element_work:\n",
    "                    search_right(art,mes[0])\n",
    "            elif text_code ==1:\n",
    "                el_art = (art[art.find(\" \")+1:].find(text)+len(text))\n",
    "                arg1 = str(art[art.find(\" \")+1:][:el_art].replace(text,\"\"))\n",
    "                arg2 = str(art[art.find(\" \")+1:][el_art:])\n",
    "                #print(arg1,arg2)\n",
    "                pull = \"\".join((arg1,arg2))\n",
    "                \n",
    "                art_element_work = pull\n",
    "                if mes[0] == art_element_work:\n",
    "                    search_left(art,mes[1])\n",
    "                elif mes[1] == art_element_work:\n",
    "                    search_right(art,mes[0])\n",
    "                    \n",
    "            elif text_code ==2:\n",
    "                art_element_work = art[art.find(\" \")+1:].replace(str(text),\"\")\n",
    "                if mes[0] == art_element_work:\n",
    "                    search_left(art,mes[1])\n",
    "                elif mes[1] == art_element_work:\n",
    "                    search_right(art,mes[0])\n",
    "            elif text_code ==3:\n",
    "                cut_art = art[art.find(\" \")+1:]\n",
    "                cut_art_re = cut_art[::-1]\n",
    "                text_re = text[::-1]\n",
    "                \n",
    "                ele_art = (cut_art_re.find(text_re)+len(text_re))\n",
    "                arg1 = str(cut_art_re[:ele_art].replace(text_re,\"\"))\n",
    "                arg2 = str(cut_art_re[ele_art:])\n",
    "                pull = \"\".join((arg1,arg2))[::-1]\n",
    "                atr_element_work = pull\n",
    "                if mes[0] == atr_element_work:\n",
    "                    search_left(art,mes[1])\n",
    "                elif mes[1] == atr_element_work:\n",
    "                    search_right(art,mes[0])\n",
    "        for value_db in keyboard_db[art]:\n",
    "            value_db = value_db\n",
    "            if mes[0] == value_db:\n",
    "                search_left(art,mes[1])\n",
    "                continue\n",
    "            elif mes[1] == value_db:\n",
    "                search_right(art,mes[0])\n",
    "                continue\n",
    "                "
   ]
  },
  {
   "cell_type": "code",
   "execution_count": 222,
   "id": "2474f611-eafa-4f13-90d5-1bebdc4d8480",
   "metadata": {},
   "outputs": [
    {
     "name": "stdout",
     "output_type": "stream",
     "text": [
      "AG AH125782JD ['AH125782']\n",
      "AG AH126008JD ['AH126008']\n",
      "AG AH128075JD ['AH128075']\n",
      "AG AH130160JD ['AH130160']\n",
      "AG AH130571JD ['AH130571']\n",
      "AG AH138180JD ['AH138180', 'AH130579']\n",
      "AG AH145821JD ['AH145821']\n",
      "AG AH146352JD ['AH146352']\n",
      "AG AH147557JD ['AH147557']\n",
      "AG AH148573JD ['AH148573']\n",
      "AG AH159567JD ['AH159567']\n",
      "AG AH168891JD ['AH168891']\n",
      "AG AH168892JD ['AH168892']\n",
      "AG AH168893JD ['AH168893']\n",
      "AG AH168900JD ['AH168900']\n",
      "AG AH168901JD ['AH168901']\n"
     ]
    }
   ],
   "source": [
    "for i,art in enumerate(articles):\n",
    "    #for key in keyboard_db[art]:\n",
    "    if (i < 40 ) | (i > 55):\n",
    "        continue\n",
    "    print(art, keyboard[art])"
   ]
  },
  {
   "cell_type": "markdown",
   "id": "5cf2b6de-5727-4676-a1d0-d60708517b7a",
   "metadata": {},
   "source": [
    "# DELETE ALL THE SAME ELEMENT\n",
    "##### keyboard / keyboard_db"
   ]
  },
  {
   "cell_type": "code",
   "execution_count": 223,
   "id": "3cd8bf46-28ed-4b12-a6f3-4366bf2b5765",
   "metadata": {},
   "outputs": [
    {
     "name": "stderr",
     "output_type": "stream",
     "text": [
      "100%|████████████████████████████████████████████████████████████████████████| 193/193 [00:00<00:00, 607733.24it/s]\n"
     ]
    }
   ],
   "source": [
    "# work with our Data\n",
    "for article in tqdm(articles):\n",
    "    for keybo in keyboard[article]:\n",
    "        error = 0\n",
    "        for keybo_db in keyboard_db[article]:\n",
    "            if keybo == keybo_db:\n",
    "                error = 1\n",
    "        if error == 0:\n",
    "            resould[article].append(keybo)"
   ]
  },
  {
   "cell_type": "code",
   "execution_count": 224,
   "id": "a84cd3a4-6892-44fe-8b54-4ea86ce0846d",
   "metadata": {},
   "outputs": [],
   "source": [
    "# Start work with view file xlsx\n",
    "place_A = []\n",
    "place_FH = []\n",
    "#place_G = []\n",
    "for i,article in enumerate(articles):\n",
    "    if len(resould[article]) != 0:\n",
    "        #print(article,\" \",resould[article])\n",
    "        for resou_art in resould[article]:\n",
    "            place_A.append(article)\n",
    "            place_FH.append(resou_art)\n",
    "            #place_G.append(key_brand[article])"
   ]
  },
  {
   "cell_type": "code",
   "execution_count": 225,
   "id": "54aa2329-1cc4-49ff-8eb9-c0300371f047",
   "metadata": {},
   "outputs": [],
   "source": [
    "df = pd.DataFrame(np.nan,index = range(len(place_A)),columns = range(8),dtype=object)\n",
    "#df.iloc[:,0] = np.array(place_A)"
   ]
  },
  {
   "cell_type": "code",
   "execution_count": 226,
   "id": "39ef0196-56bb-4a57-8b4a-e77b6ec891c1",
   "metadata": {},
   "outputs": [],
   "source": [
    "for i,place in enumerate(place_A):\n",
    "    df.loc[i,0] = str(place)\n",
    "for i,place in enumerate(place_FH):\n",
    "    df.loc[i,5] = str(place)\n",
    "    df.loc[i,7] = str(place)\n",
    "df.loc[:,3] = \"OE\"\n",
    "df.loc[:,6] = \"JOHN DEERE\""
   ]
  },
  {
   "cell_type": "code",
   "execution_count": 227,
   "id": "ef8904a3-8859-4dee-a4fd-41d763fe9049",
   "metadata": {},
   "outputs": [],
   "source": [
    "#print(df)\n",
    "df.to_excel(\"ANSWER.xlsx\" ,index = False,header =False)"
   ]
  },
  {
   "cell_type": "markdown",
   "id": "d42292ac-2cca-4e17-8959-c8ac8032f1f8",
   "metadata": {},
   "source": [
    "#### Change width"
   ]
  },
  {
   "cell_type": "code",
   "execution_count": 228,
   "id": "5b7559f7-f0b5-4d1f-aec3-6a620fef8cbe",
   "metadata": {},
   "outputs": [],
   "source": [
    "from openpyxl import load_workbook\n",
    "\n",
    "# covert file in data\n",
    "workbook = load_workbook(\"ANSWER.xlsx\")\n",
    "worksheet = workbook.active  # active sheet(in jupyter notebook break xlsx file(don't let change it is file)\n",
    "\n",
    "# make size width for my data\n",
    "worksheet.column_dimensions['A'].width = 20\n",
    "worksheet.column_dimensions['D'].width = 5\n",
    "worksheet.column_dimensions['F'].width = 15\n",
    "worksheet.column_dimensions['G'].width = 12\n",
    "worksheet.column_dimensions['H'].width = 15\n",
    "# Save\n",
    "workbook.save(\"ANSWER.xlsx\")"
   ]
  },
  {
   "cell_type": "code",
   "execution_count": 229,
   "id": "5e35e108-8c41-4df7-ba63-16784488a62a",
   "metadata": {},
   "outputs": [
    {
     "name": "stdout",
     "output_type": "stream",
     "text": [
      "                0    1    2   3    4         5           6         7\n",
      "0    AG 03M7184JD  NaN  NaN  OE  NaN  LCA51967  JOHN DEERE  LCA51967\n",
      "1    AG 03M7184JD  NaN  NaN  OE  NaN   T296506  JOHN DEERE   T296506\n",
      "2    AG 03M7184JD  NaN  NaN  OE  NaN   03M7128  JOHN DEERE   03M7128\n",
      "3    AG 03M7190JD  NaN  NaN  OE  NaN  LCA67736  JOHN DEERE  LCA67736\n",
      "4    AG 03M7190JD  NaN  NaN  OE  NaN   03M7035  JOHN DEERE   03M7035\n",
      "..            ...  ...  ...  ..  ...       ...         ...       ...\n",
      "233   AG U11017JD  NaN  NaN  OE  NaN    Z28064  JOHN DEERE    Z28064\n",
      "234   AG Z12798JD  NaN  NaN  OE  NaN   AZ38055  JOHN DEERE   AZ38055\n",
      "235   AG Z12798JD  NaN  NaN  OE  NaN    Z11297  JOHN DEERE    Z11297\n",
      "236   AG Z69650JD  NaN  NaN  OE  NaN    Z61067  JOHN DEERE    Z61067\n",
      "237   AG Z77601JD  NaN  NaN  OE  NaN   DQ35415  JOHN DEERE   DQ35415\n",
      "\n",
      "[238 rows x 8 columns]\n"
     ]
    }
   ],
   "source": [
    "print(df)"
   ]
  },
  {
   "cell_type": "code",
   "execution_count": null,
   "id": "fb80ca32-2c57-41e0-b23f-e273ccf17437",
   "metadata": {},
   "outputs": [],
   "source": []
  }
 ],
 "metadata": {
  "kernelspec": {
   "display_name": "Python 3 (ipykernel)",
   "language": "python",
   "name": "python3"
  },
  "language_info": {
   "codemirror_mode": {
    "name": "ipython",
    "version": 3
   },
   "file_extension": ".py",
   "mimetype": "text/x-python",
   "name": "python",
   "nbconvert_exporter": "python",
   "pygments_lexer": "ipython3",
   "version": "3.13.5"
  }
 },
 "nbformat": 4,
 "nbformat_minor": 5
}
