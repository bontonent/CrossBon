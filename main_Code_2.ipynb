{
 "cells": [
  {
   "cell_type": "markdown",
   "id": "2e6949e9-72be-4740-991e-5ef9a8f9e58f",
   "metadata": {},
   "source": [
    "# Start project\n",
    "### Where are first del data from Big file"
   ]
  },
  {
   "cell_type": "code",
   "execution_count": 242,
   "id": "52d2a5f7-1b16-4bcb-a1b0-eba9db06d0c2",
   "metadata": {},
   "outputs": [],
   "source": [
    "# Library\n",
    "import pandas as pd\n",
    "from tqdm import tqdm\n",
    "import numpy as np\n",
    "import copy\n",
    "#copy in clipboard\n",
    "import pyperclip\n",
    "#pyperclip.copy(mes[1])"
   ]
  },
  {
   "cell_type": "code",
   "execution_count": 243,
   "id": "6fd49896-0f94-4490-bbcf-cf6a01dfbffd",
   "metadata": {},
   "outputs": [],
   "source": [
    "# convert from excel to data\n",
    "df_jd = pd.read_excel(\"data_JD.xlsx\")\n",
    "articles_excel = pd.read_excel(\"need_articles.xlsx\")\n",
    "articles = articles_excel[\"Номер 2\"] # main key"
   ]
  },
  {
   "cell_type": "code",
   "execution_count": 244,
   "id": "40779d15-d630-4817-b576-a3441e727e2f",
   "metadata": {},
   "outputs": [],
   "source": [
    "# create convenient format data\n",
    "mesive = []\n",
    "data = np.array(df_jd)\n",
    "for work in data:\n",
    "    mesive.append(list(work))\n",
    "work_mesive = copy.deepcopy(mesive[:])"
   ]
  },
  {
   "cell_type": "markdown",
   "id": "fbe5aa61-52d5-49f3-8975-15cf9fc77300",
   "metadata": {},
   "source": [
    "### Start hard funtion \"delete all data not needed\""
   ]
  },
  {
   "cell_type": "code",
   "execution_count": 245,
   "id": "d7e822cc-8fa1-4c67-81c6-48aef64d968b",
   "metadata": {},
   "outputs": [],
   "source": [
    "# Create key\n",
    "keyboard = {}\n",
    "keyboard_db = {}\n",
    "resould = {}\n",
    "for article in articles:\n",
    "    keyboard[article] = [article]\n",
    "    keyboard_db[article] = []\n",
    "    resould[article] = []"
   ]
  },
  {
   "cell_type": "code",
   "execution_count": 246,
   "id": "1c326154-e300-49b7-895b-25c10d2c5c02",
   "metadata": {},
   "outputs": [],
   "source": [
    "# create check if don't have copy we add element\n",
    "def add_in_keyboard_right(key, value):\n",
    "    error = 0\n",
    "    for element in keyboard[key]:\n",
    "        if element == value:\n",
    "            error = 1\n",
    "    if error == 0:\n",
    "        keyboard[key].append(value)\n",
    "def add_in_keyboard_left(key, value):\n",
    "    error = 0\n",
    "    for element in keyboard[key]:\n",
    "        if element == value:\n",
    "            error = 1\n",
    "    if error == 0:\n",
    "        keyboard[key].insert(0,value)"
   ]
  },
  {
   "cell_type": "markdown",
   "id": "60b4b47d-fdc2-4cb2-883a-10d4dbc597b8",
   "metadata": {},
   "source": [
    "##### Need go inside articles and add him"
   ]
  },
  {
   "cell_type": "code",
   "execution_count": 247,
   "id": "94ad96af-3c04-4b05-8044-c68fb445f233",
   "metadata": {},
   "outputs": [],
   "source": [
    "temps = []\n",
    "temp = []\n",
    "def search_left(key, value):\n",
    "    temps = []\n",
    "    temps.append(value)\n",
    "    while 0 == 0:\n",
    "        temp = []\n",
    "        for tem  in temps:\n",
    "            #print(tem)\n",
    "            work_value = tem\n",
    "            for i, mes in enumerate(mesive):\n",
    "                if mes[0] == work_value:\n",
    "                    add_in_keyboard_left(key,mes[1])\n",
    "                    temp.append(mes[1])\n",
    "        if temp == []:\n",
    "            break;\n",
    "        else:\n",
    "            temps = temp\n",
    "def search_right(key, value):\n",
    "    temps = []\n",
    "    temps.append(value)\n",
    "    while 0 == 0:\n",
    "        temp = []\n",
    "        for tem  in temps:\n",
    "            #print(tem)\n",
    "            work_value = tem\n",
    "            for i, mes in enumerate(mesive):\n",
    "                if mes[1] == work_value:\n",
    "                    add_in_keyboard_left(key,mes[0])\n",
    "        if temp == []:\n",
    "            break;\n",
    "        else:\n",
    "            temps = temp"
   ]
  },
  {
   "cell_type": "code",
   "execution_count": 248,
   "id": "f493832f-dbdb-4680-a62b-66240e5dd32c",
   "metadata": {},
   "outputs": [
    {
     "name": "stdout",
     "output_type": "stream",
     "text": [
      "Choose necessary data\n"
     ]
    },
    {
     "name": "stderr",
     "output_type": "stream",
     "text": [
      "100%|████████████████████████████████████████████████████████████████████████| 9229/9229 [00:02<00:00, 4258.83it/s]\n"
     ]
    }
   ],
   "source": [
    "print(\"Choose necessary data\")\n",
    "for i, mes in enumerate(tqdm(mesive)):\n",
    "    for art in articles:\n",
    "        if mes[0] == art:\n",
    "            add_in_keyboard_left(mes[0],mes[1])\n",
    "            search_left(mes[0],mes[1])\n",
    "            #print(\"Need add up \",mes)\n",
    "        if mes[1] == art:\n",
    "            add_in_keyboard_right(mes[1],mes[0])\n",
    "            search_right(mes[1],mes[0])\n",
    "            #print(\"Need add low \",mes)"
   ]
  },
  {
   "cell_type": "markdown",
   "id": "046ca18e-c819-417b-b5a8-fe86bf9fff4f",
   "metadata": {},
   "source": [
    "### Start work with file from DataBase cross"
   ]
  },
  {
   "cell_type": "code",
   "execution_count": 249,
   "id": "f6491b4f-be8a-4055-8f22-d03548bd55c0",
   "metadata": {},
   "outputs": [],
   "source": [
    "# for DB\n",
    "def add_in_keyboard_db(key, value):\n",
    "    error = 0\n",
    "    for element in keyboard_db[key]:\n",
    "        if element == value: \n",
    "            error = 1\n",
    "    if error == 0:\n",
    "        keyboard_db[key].append(value)"
   ]
  },
  {
   "cell_type": "code",
   "execution_count": 250,
   "id": "8b71a371-26d5-4d4b-b1b1-a60181ed41fc",
   "metadata": {},
   "outputs": [],
   "source": [
    "# keyboard_db element use for add data from our DB\n",
    "df_have = pd.read_excel(\"We_have.xlsx\")\n",
    "for i, data_need in enumerate(df_have.iloc[:,0]):\n",
    "    element_dd = data_need.replace(\"DD \",\"\")\n",
    "    #print(element_dd)\n",
    "    error = 0\n",
    "    for article in articles:\n",
    "        if article == element_dd:\n",
    "            error = 1\n",
    "            #print(element_dd)\n",
    "            break\n",
    "    if error == 1:\n",
    "        #print(element_dd,\" \", (df_have.iloc[i,2]))\n",
    "        add_in_keyboard_db(element_dd,df_have.iloc[i,2])"
   ]
  },
  {
   "cell_type": "markdown",
   "id": "5cf2b6de-5727-4676-a1d0-d60708517b7a",
   "metadata": {},
   "source": [
    "# DELETE ALL THE SAME ELEMENT\n",
    "##### keyboard / keyboard_db"
   ]
  },
  {
   "cell_type": "code",
   "execution_count": 251,
   "id": "3cd8bf46-28ed-4b12-a6f3-4366bf2b5765",
   "metadata": {},
   "outputs": [
    {
     "name": "stderr",
     "output_type": "stream",
     "text": [
      "100%|█████████████████████████████████████████████████████████████████████| 2426/2426 [00:00<00:00, 1350594.84it/s]\n"
     ]
    }
   ],
   "source": [
    "for article in tqdm(articles):\n",
    "    #print(i,\" \",article)\n",
    "    #print(keyboard[article],\" \",keyboard_db[article])\n",
    "    for keybo in keyboard[article]:\n",
    "        error = 0\n",
    "        for keybo_db in keyboard_db[article]:\n",
    "            if keybo == keybo_db:\n",
    "                error = 1\n",
    "        if error == 0:\n",
    "            resould[article].append(keybo)"
   ]
  },
  {
   "cell_type": "code",
   "execution_count": 252,
   "id": "a84cd3a4-6892-44fe-8b54-4ea86ce0846d",
   "metadata": {},
   "outputs": [],
   "source": [
    "place_A = []\n",
    "place_FH = []\n",
    "for i,article in enumerate(articles):\n",
    "    if len(resould[article]) != 0:\n",
    "        #print(article,\" \",resould[article])\n",
    "        for resou_art in resould[article]:\n",
    "            place_A.append(article)\n",
    "            place_FH.append(resou_art)\n",
    "    "
   ]
  },
  {
   "cell_type": "code",
   "execution_count": 253,
   "id": "db6028a2-2ae5-432e-bf60-5b216839b631",
   "metadata": {},
   "outputs": [
    {
     "name": "stdout",
     "output_type": "stream",
     "text": [
      "76   76\n"
     ]
    }
   ],
   "source": [
    "print(len(place_A),\" \",len(place_FH))\n"
   ]
  },
  {
   "cell_type": "code",
   "execution_count": 260,
   "id": "54aa2329-1cc4-49ff-8eb9-c0300371f047",
   "metadata": {},
   "outputs": [],
   "source": [
    "df = pd.DataFrame(np.nan,index = range(len(place_A)),columns = range(8),dtype=object)\n",
    "#df.iloc[:,0] = np.array(place_A)"
   ]
  },
  {
   "cell_type": "code",
   "execution_count": 261,
   "id": "39ef0196-56bb-4a57-8b4a-e77b6ec891c1",
   "metadata": {},
   "outputs": [],
   "source": [
    "for i,place in enumerate(place_A):\n",
    "    df.loc[i,0] = \"\".join((\"DD \",str(place)))\n",
    "for i,place in enumerate(place_FH):\n",
    "    df.loc[i,5] = str(place)\n",
    "    df.loc[i,7] = str(place)\n",
    "df.loc[:,3] = \"OE\"\n",
    "df.loc[:,6] = \"JOHN DEERE\""
   ]
  },
  {
   "cell_type": "code",
   "execution_count": 263,
   "id": "ef8904a3-8859-4dee-a4fd-41d763fe9049",
   "metadata": {},
   "outputs": [],
   "source": [
    "#print(df)\n",
    "df.to_excel(\"DATA.xlsx\",index = False,header =False)"
   ]
  },
  {
   "cell_type": "code",
   "execution_count": null,
   "id": "af961f2f-b195-41de-b903-4598070279ea",
   "metadata": {},
   "outputs": [],
   "source": []
  },
  {
   "cell_type": "code",
   "execution_count": null,
   "id": "1c5280c7-8556-4295-a98b-ad9ec72fff8c",
   "metadata": {},
   "outputs": [],
   "source": []
  }
 ],
 "metadata": {
  "kernelspec": {
   "display_name": "Python 3 (ipykernel)",
   "language": "python",
   "name": "python3"
  },
  "language_info": {
   "codemirror_mode": {
    "name": "ipython",
    "version": 3
   },
   "file_extension": ".py",
   "mimetype": "text/x-python",
   "name": "python",
   "nbconvert_exporter": "python",
   "pygments_lexer": "ipython3",
   "version": "3.13.5"
  }
 },
 "nbformat": 4,
 "nbformat_minor": 5
}
