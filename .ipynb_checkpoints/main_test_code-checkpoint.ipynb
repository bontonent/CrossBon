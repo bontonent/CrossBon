{
 "cells": [
  {
   "cell_type": "markdown",
   "id": "df8f104d-112c-492b-8f98-da5b697d30f4",
   "metadata": {},
   "source": [
    "# START WORK"
   ]
  },
  {
   "cell_type": "code",
   "execution_count": 380,
   "id": "0d3a4487-fb86-4aba-b66e-182d4e7ed1f2",
   "metadata": {},
   "outputs": [],
   "source": [
    "import pandas as pd\n",
    "import copy\n",
    "import numpy as np\n",
    "import pyperclip\n",
    "from tqdm import tqdm\n",
    "\n",
    "mesive = []\n",
    "df_jd = pd.read_excel(\"data_JD.xlsx\")\n",
    "data = np.array(df_jd)\n",
    "\n",
    "for kol in data:\n",
    "    mesive.append(list(kol))"
   ]
  },
  {
   "cell_type": "markdown",
   "id": "cf4fcbcc-f695-4e8a-ac0b-9617eb105b79",
   "metadata": {},
   "source": [
    "### View data"
   ]
  },
  {
   "cell_type": "code",
   "execution_count": 381,
   "id": "c0e5c216-1269-478e-9a00-973000d0b614",
   "metadata": {},
   "outputs": [
    {
     "name": "stdout",
     "output_type": "stream",
     "text": [
      "[['T21229', 'T19584'], ['TY7117', 'TY7176'], ['TY7144', 'TY7176'], ['TY7261', 'TY7176'], ['T116146', 'T116689'], ['T79713', 'T122099'], ['T200199', 'T209107'], ['T195633', 'T208697'], ['T200203', 'T208675'], ['T200198', 'T208513']]\n"
     ]
    }
   ],
   "source": [
    "print(mesive[:10])\n",
    "work_mesive = copy.deepcopy(mesive[:])"
   ]
  },
  {
   "cell_type": "markdown",
   "id": "755f5a3d-f437-46cf-a349-5ed3f3ec07b3",
   "metadata": {},
   "source": [
    "### add data for first 100 element(or all)\n",
    "###### need don't forget about error with same elements(1,2,1 it is don't end a while)"
   ]
  },
  {
   "cell_type": "code",
   "execution_count": 382,
   "id": "3289e8a6-75ae-4d91-afa1-2289510d8645",
   "metadata": {},
   "outputs": [
    {
     "name": "stdout",
     "output_type": "stream",
     "text": [
      "ADD START AND END COLUMNS\n"
     ]
    },
    {
     "name": "stderr",
     "output_type": "stream",
     "text": [
      "100%|█████████████████████████████████████████████████████████████████████████| 9212/9212 [00:18<00:00, 489.98it/s]\n"
     ]
    }
   ],
   "source": [
    "print(\"ADD START AND END COLUMNS\")\n",
    "for number in tqdm(range(len(mesive))):\n",
    "    # change 0 on next 1 2 3 4 \n",
    "    end_element = mesive[number][1]\n",
    "    start_element = mesive[number][0]\n",
    "    while 0 == 0:\n",
    "        if (old_end_element == end_element)&(old_start_element == start_element):\n",
    "            break\n",
    "        old_end_element = end_element\n",
    "        old_start_element = start_element\n",
    "        for i, mes in enumerate(mesive):\n",
    "            if (mesive[number][0] == end_element) | (mesive[number][1] == start_element): # error with ([\"A\", \"B\"], [\"B\", \"A\"])\n",
    "                continue\n",
    "            if mes[0] == end_element:\n",
    "                # change 0 on next 1 2 3 4\n",
    "                work_mesive[number].append(mes[1])\n",
    "                end_element = mes[1]\n",
    "            if mes[1] == start_element:\n",
    "                work_mesive[number].insert(0,mes[0])\n",
    "                start_element = mes[0]        "
   ]
  },
  {
   "cell_type": "code",
   "execution_count": 383,
   "id": "bb40ad4e-136b-4061-a007-f6273ab100b6",
   "metadata": {},
   "outputs": [
    {
     "name": "stdout",
     "output_type": "stream",
     "text": [
      "[['T21229', 'T19584', 'T40728', '24M7241'], ['TY7117', 'TY7176', 'TY8629', 'A-308ASAE25'], ['TY7144', 'TY7176', 'TY8629', 'A-308ASAE25'], ['TY7261', 'TY7176', 'TY8629', 'A-308ASAE25'], ['T116146', 'T116689', 'T234571', 'AT165110'], ['T79713', 'T122099', 'T127125', 'AT181236'], ['T200199', 'T209107', 'T279467', 'AT462611'], ['T195633', 'T208697', 'T279466', 'AT462612'], ['T200203', 'T208675', 'T279465', 'AT462613'], ['T200198', 'T208513', 'T279464', 'AT462614']]\n"
     ]
    }
   ],
   "source": [
    "print(work_mesive[:10])"
   ]
  },
  {
   "cell_type": "code",
   "execution_count": 384,
   "id": "7d0acc19-947a-4aab-996b-592ef198c66a",
   "metadata": {},
   "outputs": [
    {
     "name": "stdout",
     "output_type": "stream",
     "text": [
      "['T21229', 'T19584', 'T40728', '24M7241']\n"
     ]
    }
   ],
   "source": [
    "print(work_mesive[0])"
   ]
  },
  {
   "cell_type": "code",
   "execution_count": 385,
   "id": "4d6f6665-c018-45f1-b723-793f5cdd8656",
   "metadata": {},
   "outputs": [
    {
     "data": {
      "text/plain": [
       "9212"
      ]
     },
     "execution_count": 385,
     "metadata": {},
     "output_type": "execute_result"
    }
   ],
   "source": [
    "len(work_mesive)"
   ]
  },
  {
   "cell_type": "code",
   "execution_count": 386,
   "id": "809a3702-7020-478e-a956-def010c59acd",
   "metadata": {},
   "outputs": [
    {
     "name": "stdout",
     "output_type": "stream",
     "text": [
      "['T56136', 'T62704', 'T70591', 'T76923', 'AT76489']\n",
      "['T56136', 'T62704', 'T70591', 'T76923', 'AT76489']\n"
     ]
    }
   ],
   "source": [
    "print(work_mesive[12])\n",
    "print(work_mesive[87])\n",
    "work_mes = list(copy.deepcopy(work_mesive))"
   ]
  },
  {
   "cell_type": "code",
   "execution_count": 387,
   "id": "c807a6de-698e-40dc-8e30-cdd9284df2ef",
   "metadata": {},
   "outputs": [
    {
     "name": "stdout",
     "output_type": "stream",
     "text": [
      "DELETE DUPLICATE\n"
     ]
    },
    {
     "name": "stderr",
     "output_type": "stream",
     "text": [
      "100%|████████████████████████████████████████████████████████████████████████| 9212/9212 [00:01<00:00, 4767.49it/s]\n"
     ]
    },
    {
     "data": {
      "text/plain": [
       "8339"
      ]
     },
     "execution_count": 387,
     "metadata": {},
     "output_type": "execute_result"
    }
   ],
   "source": [
    "# DELETE DUPLICATE\n",
    "work_mes = []\n",
    "seen = set()\n",
    "\n",
    "print(\"DELETE DUPLICATE\")\n",
    "for val in tqdm(work_mesive):\n",
    "    index = 0\n",
    "    con_val = tuple(val)\n",
    "    for hav_ele in work_mes:\n",
    "        if hav_ele == val:\n",
    "            index = 1 \n",
    "    if index != 1:\n",
    "        work_mes.append(val)\n",
    "\n",
    "len(work_mes)\n",
    "#len(pd.unique(work_mesive))"
   ]
  },
  {
   "cell_type": "markdown",
   "id": "1faaa84c-73bb-49ae-950a-b9c3f9ed0b0d",
   "metadata": {},
   "source": [
    "### Write data"
   ]
  },
  {
   "cell_type": "code",
   "execution_count": 389,
   "id": "0338fb44-a20f-44c8-a9ce-78f922ddc892",
   "metadata": {},
   "outputs": [],
   "source": [
    "df_write = pd.DataFrame(work_mes)\n",
    "df_write.to_excel(\"DATA.xlsx\")"
   ]
  },
  {
   "cell_type": "markdown",
   "id": "521a7774-d4f1-4b06-aaf7-e46b9c49171f",
   "metadata": {},
   "source": [
    " "
   ]
  },
  {
   "cell_type": "code",
   "execution_count": null,
   "id": "d4c2bbe5-8c01-45e9-b6be-a1721009be44",
   "metadata": {},
   "outputs": [],
   "source": []
  },
  {
   "cell_type": "code",
   "execution_count": null,
   "id": "1ee17ccd-3254-40b1-9781-96b4c97efede",
   "metadata": {},
   "outputs": [],
   "source": []
  }
 ],
 "metadata": {
  "kernelspec": {
   "display_name": "Python 3 (ipykernel)",
   "language": "python",
   "name": "python3"
  },
  "language_info": {
   "codemirror_mode": {
    "name": "ipython",
    "version": 3
   },
   "file_extension": ".py",
   "mimetype": "text/x-python",
   "name": "python",
   "nbconvert_exporter": "python",
   "pygments_lexer": "ipython3",
   "version": "3.13.5"
  }
 },
 "nbformat": 4,
 "nbformat_minor": 5
}
