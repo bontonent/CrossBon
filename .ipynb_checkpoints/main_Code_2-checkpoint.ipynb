{
 "cells": [
  {
   "cell_type": "markdown",
   "id": "2e6949e9-72be-4740-991e-5ef9a8f9e58f",
   "metadata": {},
   "source": [
    "# Start project\n",
    "### Where are first del data from Big file"
   ]
  },
  {
   "cell_type": "code",
   "execution_count": 75,
   "id": "97c2b48e-9293-4a62-b1c9-3e52cb5baedc",
   "metadata": {},
   "outputs": [],
   "source": [
    "# Library\n",
    "import pandas as pd\n",
    "# time zone\n",
    "from tqdm import tqdm\n",
    "import numpy as np\n",
    "# change width\n",
    "from openpyxl import load_workbook\n",
    "import os"
   ]
  },
  {
   "cell_type": "code",
   "execution_count": 76,
   "id": "6fd49896-0f94-4490-bbcf-cf6a01dfbffd",
   "metadata": {},
   "outputs": [],
   "source": [
    "# convert from excel to data\n",
    "df_jd = pd.read_excel(\"DATA_JD_.xlsx\", header = None)\n",
    "articles_excel = pd.read_excel(\"Article_need.xlsx\")\n",
    "articles = articles_excel[\"Номер\"] # main key"
   ]
  },
  {
   "cell_type": "code",
   "execution_count": 77,
   "id": "f7574331-0943-4419-8130-392b4a0a8260",
   "metadata": {},
   "outputs": [],
   "source": [
    "### create convenient format data\n",
    "mesive = []\n",
    "data = np.array(df_jd)\n",
    "for work in data:\n",
    "    mesive.append(list(work))"
   ]
  },
  {
   "cell_type": "code",
   "execution_count": 78,
   "id": "d7e822cc-8fa1-4c67-81c6-48aef64d968b",
   "metadata": {},
   "outputs": [],
   "source": [
    "# Create key\n",
    "keyboard = {}\n",
    "keyboard_db = {}\n",
    "resould = {}\n",
    "## next version add button where add element\n",
    "## keyboard[article] = [article] without [DD ]\n",
    "for article in articles:\n",
    "    keyboard[article] = []\n",
    "    keyboard_db[article] = []\n",
    "    resould[article] = []"
   ]
  },
  {
   "cell_type": "markdown",
   "id": "29574586-369b-4287-ba01-93501fc8d3ec",
   "metadata": {},
   "source": [
    "### Start work with file from DataBase cross"
   ]
  },
  {
   "cell_type": "code",
   "execution_count": 79,
   "id": "f6491b4f-be8a-4055-8f22-d03548bd55c0",
   "metadata": {},
   "outputs": [],
   "source": [
    "# for DB\n",
    "def add_in_keyboard_db(key, value):\n",
    "    error = 0\n",
    "    for element in keyboard_db[key]:\n",
    "        if element == value:\n",
    "            error = 1\n",
    "    if error == 0:\n",
    "        keyboard_db[key].append(value)"
   ]
  },
  {
   "cell_type": "code",
   "execution_count": 80,
   "id": "8b71a371-26d5-4d4b-b1b1-a60181ed41fc",
   "metadata": {},
   "outputs": [],
   "source": [
    "# keyboard_db element use for add data from our DB\n",
    "df_have = pd.read_excel(\"Cross_have.xlsx\")\n",
    "ion = 0\n",
    "for i, data_need in enumerate(df_have.loc[:,\"Код товара\"]):\n",
    "    element_dd = data_need\n",
    "    #print(element_dd)\n",
    "    error = 0\n",
    "    for article in articles:\n",
    "        if article == element_dd:\n",
    "            error = 1\n",
    "            #print(element_dd)\n",
    "            break\n",
    "    if error == 1:\n",
    "        for ion,column in enumerate(df_have.columns):\n",
    "            if column == \"Номер перекрестной ссылки\":\n",
    "                code = ion\n",
    "                #print(code)\n",
    "        add_in_keyboard_db(element_dd,df_have.iloc[i,code])"
   ]
  },
  {
   "cell_type": "code",
   "execution_count": 81,
   "id": "95deaafd-08d6-4dcd-879f-cd631e9bf00d",
   "metadata": {},
   "outputs": [
    {
     "name": "stdout",
     "output_type": "stream",
     "text": [
      "DD Z81937 ['Z81937']\n",
      "DD Z70861 ['Z70861']\n",
      "DD Z70694 ['Z70694']\n",
      "DD Z70553 ['Z70553']\n",
      "DD Z68723 ['Z68723']\n",
      "DD Z67628 ['Z67628']\n",
      "DD Z66313 ['Z35217', 'Z66313']\n",
      "DD Z65924 ['Z65924']\n",
      "DD Z65533 ['Z61846', 'Z63271', 'Z65533']\n",
      "DD Z65529 ['Z65529']\n",
      "DD Z65228 ['Z65228']\n",
      "DD Z64078 ['Z64078']\n"
     ]
    }
   ],
   "source": [
    "for i,art in enumerate(articles):\n",
    "    print(art, keyboard_db[art])\n",
    "    if i > 10:\n",
    "        break"
   ]
  },
  {
   "cell_type": "markdown",
   "id": "fbe5aa61-52d5-49f3-8975-15cf9fc77300",
   "metadata": {},
   "source": [
    "### Start hard funtion \"delete all data not needed\""
   ]
  },
  {
   "cell_type": "code",
   "execution_count": 82,
   "id": "1c326154-e300-49b7-895b-25c10d2c5c02",
   "metadata": {},
   "outputs": [],
   "source": [
    "# create check if don't have copy we add element\n",
    "def add_in_keyboard_right(key, value):\n",
    "    error = 0\n",
    "    for element in keyboard[key]:\n",
    "        if element == value:\n",
    "            error = 1\n",
    "    if error == 0:\n",
    "        keyboard[key].append(value)\n",
    "def add_in_keyboard_left(key, value):\n",
    "    error = 0\n",
    "    for element in keyboard[key]:\n",
    "        if element == value:\n",
    "            error = 1\n",
    "    if error == 0:\n",
    "        keyboard[key].insert(0,value)"
   ]
  },
  {
   "cell_type": "markdown",
   "id": "60b4b47d-fdc2-4cb2-883a-10d4dbc597b8",
   "metadata": {},
   "source": [
    "##### Need go inside articles and add him"
   ]
  },
  {
   "cell_type": "code",
   "execution_count": 83,
   "id": "231b11e3-f523-49e5-9594-75106d9f75ce",
   "metadata": {},
   "outputs": [],
   "source": [
    "# Cycle for search all data and add all data in under key elements\n",
    "# {key: [here]}temps = []\n",
    "temp = []\n",
    "def search_left(key, value):\n",
    "    temps = []\n",
    "    temps.append(value)\n",
    "    add_in_keyboard_left(key,value)\n",
    "    while 0 == 0:\n",
    "        temp = []\n",
    "        for tem  in temps:\n",
    "            #print(tem)\n",
    "            work_value = tem\n",
    "            for i, mes in enumerate(mesive):\n",
    "                if mes[0] == work_value:\n",
    "                    add_in_keyboard_left(key,mes[1])\n",
    "                    temp.append(mes[1])\n",
    "        if temp == []:\n",
    "            break;\n",
    "        else:\n",
    "            temps = temp\n",
    "def search_right(key, value):\n",
    "    temps = []\n",
    "    temps.append(value)\n",
    "    add_in_keyboard_right(key,value)\n",
    "    while 0 == 0:\n",
    "        temp = []\n",
    "        for tem  in temps:\n",
    "            #print(tem)\n",
    "            work_value = tem\n",
    "            for i, mes in enumerate(mesive):\n",
    "                if mes[1] == work_value:\n",
    "                    add_in_keyboard_left(key,mes[0])\n",
    "                    temp.append(mes[0])\n",
    "        if temp == []:\n",
    "            break;\n",
    "        else:\n",
    "            temps = temp"
   ]
  },
  {
   "cell_type": "code",
   "execution_count": 84,
   "id": "f493832f-dbdb-4680-a62b-66240e5dd32c",
   "metadata": {},
   "outputs": [
    {
     "name": "stdout",
     "output_type": "stream",
     "text": [
      "Choose necessary data\n"
     ]
    },
    {
     "name": "stderr",
     "output_type": "stream",
     "text": [
      "100%|█████████████████████████████████████████████████████████████████████████| 9229/9229 [00:09<00:00, 975.12it/s]\n"
     ]
    }
   ],
   "source": [
    "# call all def for two side\n",
    "print(\"Choose necessary data\")\n",
    "for i, mes in enumerate(tqdm(mesive)):\n",
    "    for art in articles:\n",
    "        for value_db in keyboard_db[art]:\n",
    "            if mes[0] == value_db:\n",
    "                search_left(art,mes[1])\n",
    "                #print(\"Need add up \",mes)\n",
    "            if mes[1] == value_db:\n",
    "                search_right(art,mes[0])\n",
    "                #print(mes)\n",
    "                #add_in_keyboard_right(mes[1],mes[0])\n",
    "                #search_right(mes[1],mes[0])\n",
    "                #print(\"Need add low \",mes)"
   ]
  },
  {
   "cell_type": "code",
   "execution_count": 85,
   "id": "2474f611-eafa-4f13-90d5-1bebdc4d8480",
   "metadata": {},
   "outputs": [
    {
     "name": "stdout",
     "output_type": "stream",
     "text": [
      "DD Z81937 ['Z81937']\n",
      "DD Z70861 ['Z70861']\n",
      "DD Z70694 ['Z70694']\n",
      "DD Z70553 ['Z70553']\n",
      "DD Z68723 ['Z68723']\n",
      "DD Z67628 ['Z67628']\n",
      "DD Z66313 ['Z35217', 'Z66313']\n",
      "DD Z65924 ['Z65924']\n",
      "DD Z65533 ['Z61846', 'Z63271', 'Z65533']\n",
      "DD Z65529 ['Z65529']\n",
      "DD Z65228 ['Z65228']\n",
      "DD Z64078 ['Z64078']\n"
     ]
    }
   ],
   "source": [
    "for i,art in enumerate(articles):\n",
    "    #for key in keyboard_db[art]:\n",
    "    print(art, keyboard_db[art])\n",
    "    if i > 10:\n",
    "        break"
   ]
  },
  {
   "cell_type": "markdown",
   "id": "5cf2b6de-5727-4676-a1d0-d60708517b7a",
   "metadata": {},
   "source": [
    "# DELETE ALL THE SAME ELEMENT\n",
    "##### keyboard / keyboard_db"
   ]
  },
  {
   "cell_type": "code",
   "execution_count": 86,
   "id": "3cd8bf46-28ed-4b12-a6f3-4366bf2b5765",
   "metadata": {},
   "outputs": [
    {
     "name": "stderr",
     "output_type": "stream",
     "text": [
      "100%|█████████████████████████████████████████████████████████████████████| 2357/2357 [00:00<00:00, 2887258.92it/s]\n"
     ]
    }
   ],
   "source": [
    "# work with our Data\n",
    "for article in tqdm(articles):\n",
    "    for keybo in keyboard[article]:\n",
    "        error = 0\n",
    "        for keybo_db in keyboard_db[article]:\n",
    "            if keybo == keybo_db:\n",
    "                error = 1\n",
    "        if error == 0:\n",
    "            resould[article].append(keybo)"
   ]
  },
  {
   "cell_type": "code",
   "execution_count": 87,
   "id": "a84cd3a4-6892-44fe-8b54-4ea86ce0846d",
   "metadata": {},
   "outputs": [],
   "source": [
    "# Start work with view file xlsx\n",
    "place_A = []\n",
    "place_FH = []\n",
    "for i,article in enumerate(articles):\n",
    "    if len(resould[article]) != 0:\n",
    "        #print(article,\" \",resould[article])\n",
    "        for resou_art in resould[article]:\n",
    "            place_A.append(article)\n",
    "            place_FH.append(resou_art)"
   ]
  },
  {
   "cell_type": "code",
   "execution_count": 88,
   "id": "54aa2329-1cc4-49ff-8eb9-c0300371f047",
   "metadata": {},
   "outputs": [],
   "source": [
    "df = pd.DataFrame(np.nan,index = range(len(place_A)),columns = range(8),dtype=object)\n",
    "#df.iloc[:,0] = np.array(place_A)"
   ]
  },
  {
   "cell_type": "code",
   "execution_count": 89,
   "id": "39ef0196-56bb-4a57-8b4a-e77b6ec891c1",
   "metadata": {},
   "outputs": [],
   "source": [
    "for i,place in enumerate(place_A):\n",
    "    df.loc[i,0] = str(place)\n",
    "for i,place in enumerate(place_FH):\n",
    "    df.loc[i,5] = str(place)\n",
    "    df.loc[i,7] = str(place)\n",
    "df.loc[:,3] = \"OE\"\n",
    "### need change\n",
    "df.loc[:,6] = \"JOHN DEERE\""
   ]
  },
  {
   "cell_type": "code",
   "execution_count": 90,
   "id": "ef8904a3-8859-4dee-a4fd-41d763fe9049",
   "metadata": {},
   "outputs": [],
   "source": [
    "#print(df)\n",
    "df.to_excel(\"ANSWER.xlsx\" ,index = False,header =False)"
   ]
  },
  {
   "cell_type": "markdown",
   "id": "d42292ac-2cca-4e17-8959-c8ac8032f1f8",
   "metadata": {},
   "source": [
    "#### Change width"
   ]
  },
  {
   "cell_type": "code",
   "execution_count": 91,
   "id": "5b7559f7-f0b5-4d1f-aec3-6a620fef8cbe",
   "metadata": {},
   "outputs": [],
   "source": [
    "from openpyxl import load_workbook\n",
    "\n",
    "# covert file in data\n",
    "workbook = load_workbook(\"ANSWER.xlsx\")\n",
    "\n",
    "worksheet = workbook.active  # active sheet(in jupyter notebook break xlsx file(don't let change it is file)\n",
    "\n",
    "# make size width for my data\n",
    "worksheet.column_dimensions['A'].width = 20\n",
    "worksheet.column_dimensions['D'].width = 5\n",
    "worksheet.column_dimensions['F'].width = 15\n",
    "worksheet.column_dimensions['G'].width = 12\n",
    "worksheet.column_dimensions['H'].width = 15\n",
    "# Save\n",
    "workbook.save(\"ANSWER.xlsx\")"
   ]
  },
  {
   "cell_type": "code",
   "execution_count": 92,
   "id": "5e35e108-8c41-4df7-ba63-16784488a62a",
   "metadata": {},
   "outputs": [
    {
     "name": "stdout",
     "output_type": "stream",
     "text": [
      "Empty DataFrame\n",
      "Columns: [0, 1, 2, 3, 4, 5, 6, 7]\n",
      "Index: []\n"
     ]
    }
   ],
   "source": [
    "print(df)\n"
   ]
  },
  {
   "cell_type": "code",
   "execution_count": null,
   "id": "c66668b8-3e79-44f0-ac02-80465f3a4442",
   "metadata": {},
   "outputs": [],
   "source": []
  },
  {
   "cell_type": "code",
   "execution_count": null,
   "id": "feaea46a-a41b-4d3d-8155-315c1e555050",
   "metadata": {},
   "outputs": [],
   "source": []
  },
  {
   "cell_type": "code",
   "execution_count": null,
   "id": "bd80f8df-8453-4294-8a34-3e6850646ef5",
   "metadata": {},
   "outputs": [],
   "source": []
  },
  {
   "cell_type": "code",
   "execution_count": null,
   "id": "335d45dc-3ef5-4ee0-9544-e4dd1eef089f",
   "metadata": {},
   "outputs": [],
   "source": []
  },
  {
   "cell_type": "code",
   "execution_count": null,
   "id": "0f6a6b0b-4a5e-4b82-927b-032893fbb966",
   "metadata": {},
   "outputs": [],
   "source": []
  },
  {
   "cell_type": "code",
   "execution_count": null,
   "id": "f54af189-4e2a-4d73-92ea-9bd6befaa6d0",
   "metadata": {},
   "outputs": [],
   "source": []
  },
  {
   "cell_type": "code",
   "execution_count": null,
   "id": "79d1bb7c-2635-4632-88c1-4a36451bd672",
   "metadata": {},
   "outputs": [],
   "source": []
  },
  {
   "cell_type": "code",
   "execution_count": null,
   "id": "3a436c1a-9757-44ec-9a86-41ec39759156",
   "metadata": {},
   "outputs": [],
   "source": []
  }
 ],
 "metadata": {
  "kernelspec": {
   "display_name": "Python 3 (ipykernel)",
   "language": "python",
   "name": "python3"
  },
  "language_info": {
   "codemirror_mode": {
    "name": "ipython",
    "version": 3
   },
   "file_extension": ".py",
   "mimetype": "text/x-python",
   "name": "python",
   "nbconvert_exporter": "python",
   "pygments_lexer": "ipython3",
   "version": "3.13.5"
  }
 },
 "nbformat": 4,
 "nbformat_minor": 5
}
